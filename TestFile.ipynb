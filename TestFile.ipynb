{
 "cells": [
  {
   "cell_type": "markdown",
   "metadata": {},
   "source": [
    "### Тестирование базовых функций классов"
   ]
  },
  {
   "cell_type": "code",
   "execution_count": 1,
   "metadata": {},
   "outputs": [],
   "source": [
    "from Seq import Dna, Rna"
   ]
  },
  {
   "cell_type": "code",
   "execution_count": null,
   "metadata": {},
   "outputs": [],
   "source": []
  },
  {
   "cell_type": "markdown",
   "metadata": {},
   "source": [
    "#### 1. Создание объектов класса"
   ]
  },
  {
   "cell_type": "code",
   "execution_count": 2,
   "metadata": {},
   "outputs": [
    {
     "ename": "ValueError",
     "evalue": "Expected str, got <class 'int'>",
     "output_type": "error",
     "traceback": [
      "\u001b[0;31m---------------------------------------------------------------------------\u001b[0m",
      "\u001b[0;31mValueError\u001b[0m                                Traceback (most recent call last)",
      "\u001b[0;32m<ipython-input-2-37dd439aaa44>\u001b[0m in \u001b[0;36m<module>\u001b[0;34m\u001b[0m\n\u001b[1;32m      1\u001b[0m \u001b[0;31m# ValueError при передаче не str аргумента\u001b[0m\u001b[0;34m\u001b[0m\u001b[0;34m\u001b[0m\u001b[0;34m\u001b[0m\u001b[0m\n\u001b[1;32m      2\u001b[0m \u001b[0;34m\u001b[0m\u001b[0m\n\u001b[0;32m----> 3\u001b[0;31m \u001b[0mdna123\u001b[0m \u001b[0;34m=\u001b[0m \u001b[0mDna\u001b[0m\u001b[0;34m(\u001b[0m\u001b[0;36m123\u001b[0m\u001b[0;34m)\u001b[0m\u001b[0;34m\u001b[0m\u001b[0;34m\u001b[0m\u001b[0m\n\u001b[0m\u001b[1;32m      4\u001b[0m \u001b[0mprint\u001b[0m\u001b[0;34m(\u001b[0m\u001b[0mdna123\u001b[0m\u001b[0;34m)\u001b[0m\u001b[0;34m\u001b[0m\u001b[0;34m\u001b[0m\u001b[0m\n",
      "\u001b[0;32m~/MY/Bioinformatics_Institute/Python/BI_2021_Python/Seq.py\u001b[0m in \u001b[0;36m__init__\u001b[0;34m(self, seq)\u001b[0m\n\u001b[1;32m    123\u001b[0m \u001b[0;34m\u001b[0m\u001b[0m\n\u001b[1;32m    124\u001b[0m         \u001b[0mself\u001b[0m\u001b[0;34m.\u001b[0m\u001b[0m_possible_letters\u001b[0m \u001b[0;34m=\u001b[0m \u001b[0;34m(\u001b[0m\u001b[0;34m'A'\u001b[0m\u001b[0;34m,\u001b[0m \u001b[0;34m'T'\u001b[0m\u001b[0;34m,\u001b[0m \u001b[0;34m'G'\u001b[0m\u001b[0;34m,\u001b[0m \u001b[0;34m'C'\u001b[0m\u001b[0;34m)\u001b[0m\u001b[0;34m\u001b[0m\u001b[0;34m\u001b[0m\u001b[0m\n\u001b[0;32m--> 125\u001b[0;31m         \u001b[0msuper\u001b[0m\u001b[0;34m(\u001b[0m\u001b[0;34m)\u001b[0m\u001b[0;34m.\u001b[0m\u001b[0m__init__\u001b[0m\u001b[0;34m(\u001b[0m\u001b[0mseq\u001b[0m\u001b[0;34m)\u001b[0m\u001b[0;34m\u001b[0m\u001b[0;34m\u001b[0m\u001b[0m\n\u001b[0m\u001b[1;32m    126\u001b[0m \u001b[0;34m\u001b[0m\u001b[0m\n\u001b[1;32m    127\u001b[0m     \u001b[0;32mdef\u001b[0m \u001b[0m__repr__\u001b[0m\u001b[0;34m(\u001b[0m\u001b[0mself\u001b[0m\u001b[0;34m)\u001b[0m\u001b[0;34m:\u001b[0m\u001b[0;34m\u001b[0m\u001b[0;34m\u001b[0m\u001b[0m\n",
      "\u001b[0;32m~/MY/Bioinformatics_Institute/Python/BI_2021_Python/Seq.py\u001b[0m in \u001b[0;36m__init__\u001b[0;34m(self, seq)\u001b[0m\n\u001b[1;32m     11\u001b[0m             \u001b[0mself\u001b[0m\u001b[0;34m.\u001b[0m\u001b[0msequence\u001b[0m \u001b[0;34m=\u001b[0m \u001b[0mseq\u001b[0m\u001b[0;34m.\u001b[0m\u001b[0mupper\u001b[0m\u001b[0;34m(\u001b[0m\u001b[0;34m)\u001b[0m\u001b[0;34m\u001b[0m\u001b[0;34m\u001b[0m\u001b[0m\n\u001b[1;32m     12\u001b[0m         \u001b[0;32melse\u001b[0m\u001b[0;34m:\u001b[0m\u001b[0;34m\u001b[0m\u001b[0;34m\u001b[0m\u001b[0m\n\u001b[0;32m---> 13\u001b[0;31m             \u001b[0;32mraise\u001b[0m \u001b[0mValueError\u001b[0m\u001b[0;34m(\u001b[0m\u001b[0;34mf'Expected str, got {type(seq)}'\u001b[0m\u001b[0;34m)\u001b[0m\u001b[0;34m\u001b[0m\u001b[0;34m\u001b[0m\u001b[0m\n\u001b[0m\u001b[1;32m     14\u001b[0m \u001b[0;34m\u001b[0m\u001b[0m\n\u001b[1;32m     15\u001b[0m         \u001b[0;31m# проверка, что в классе-ребёнке определена матрица букв (ATGC для ДНК, AUGC для РНК)\u001b[0m\u001b[0;34m\u001b[0m\u001b[0;34m\u001b[0m\u001b[0;34m\u001b[0m\u001b[0m\n",
      "\u001b[0;31mValueError\u001b[0m: Expected str, got <class 'int'>"
     ]
    }
   ],
   "source": [
    "# ValueError при передаче не str аргумента\n",
    "\n",
    "dna123 = Dna(123)\n",
    "print(dna123)"
   ]
  },
  {
   "cell_type": "markdown",
   "metadata": {},
   "source": [
    "**TODO:** добавить проверку, что это строка ДНК/РНК, а не просто строка"
   ]
  },
  {
   "cell_type": "code",
   "execution_count": 3,
   "metadata": {},
   "outputs": [],
   "source": [
    "# объекты успешно создаются\n",
    "\n",
    "dna2 = Dna('atgcgta')\n",
    "dna3 = Dna('atgCGTa')\n",
    "dna33 = Dna('atgccccgg')\n",
    "dna4 = Dna('atgcgta')\n",
    "\n",
    "some_dna_seq = 'atgtgactgatgcatgctagctagcatgcatgctagctagctagctagcatgctagctagctagctagctagctagctagtcgatcgatgctagcatgctattttttttagcgacgagcgagctacgagtcatcgagctagctagctactagcatcagtagctagctagctgatcagtcagatcg'\n",
    "some_rna_seq = 'AUGUGACUGAUGCAUGCUAGCUAGCAUGCAUGCUAGCUAGCUAGCUAGCAUGCUAGCUAGCUAGCUAGCUAGCUAGCUAGUCGAUCGAUGCUAGCAUGCUAUUUUUUUUAGCGACGAGCGAGCUACGAGUCAUCGAGCUAGCUAGCUACUAGCAUCAGUAGCUAGCUAGCUGAUCAGUCAGAUCG'\n",
    "\n",
    "dna1 = Dna(some_dna_seq)"
   ]
  },
  {
   "cell_type": "code",
   "execution_count": 4,
   "metadata": {},
   "outputs": [],
   "source": [
    "rna1 = Rna('augggua')\n",
    "rna2 = Rna(some_rna_seq)"
   ]
  },
  {
   "cell_type": "code",
   "execution_count": 5,
   "metadata": {},
   "outputs": [
    {
     "name": "stdout",
     "output_type": "stream",
     "text": [
      "ATGCGTA , Dna('ATGCGTA') , <class 'Seq.Dna'>\n",
      "AUGGGUA , Rna('AUGGGUA') , <class 'Seq.Rna'>\n"
     ]
    }
   ],
   "source": [
    "# объекты возвращаются как объект класса\n",
    "\n",
    "print(dna2, ',', repr(dna2), ',', type(dna2))\n",
    "print(rna1, ',', repr(rna1), ',', type(rna1))"
   ]
  },
  {
   "cell_type": "code",
   "execution_count": 6,
   "metadata": {},
   "outputs": [
    {
     "data": {
      "text/plain": [
       "(Dna('ATGCGTA'), Rna('AUGGGUA'))"
      ]
     },
     "execution_count": 6,
     "metadata": {},
     "output_type": "execute_result"
    }
   ],
   "source": [
    "dna2, rna1"
   ]
  },
  {
   "cell_type": "markdown",
   "metadata": {},
   "source": [
    "#### 2. Определение доли GC нуклеотидов"
   ]
  },
  {
   "cell_type": "code",
   "execution_count": 7,
   "metadata": {},
   "outputs": [
    {
     "data": {
      "text/plain": [
       "(0.4810810810810811, 0.42857142857142855)"
      ]
     },
     "execution_count": 7,
     "metadata": {},
     "output_type": "execute_result"
    }
   ],
   "source": [
    "dna1.gc_content(), rna1.gc_content()"
   ]
  },
  {
   "cell_type": "markdown",
   "metadata": {},
   "source": [
    "**Проблема:** функции базового класса используют self.\\_complement_matrix и self.\\_possible_letters, которые различаются для DNA и RNA классов. Необходимо заставить классы-наследники определять эти аттрибуты внутри себя."
   ]
  },
  {
   "cell_type": "markdown",
   "metadata": {},
   "source": [
    "#### 3. Создание reverse_complement последовательности"
   ]
  },
  {
   "cell_type": "code",
   "execution_count": 8,
   "metadata": {},
   "outputs": [
    {
     "name": "stdout",
     "output_type": "stream",
     "text": [
      "ATGCCCCGG\n"
     ]
    }
   ],
   "source": [
    "print(dna33)"
   ]
  },
  {
   "cell_type": "code",
   "execution_count": 9,
   "metadata": {},
   "outputs": [
    {
     "data": {
      "text/plain": [
       "'GGCCCCGTA'"
      ]
     },
     "execution_count": 9,
     "metadata": {},
     "output_type": "execute_result"
    }
   ],
   "source": [
    "dna33.reverse()"
   ]
  },
  {
   "cell_type": "code",
   "execution_count": 10,
   "metadata": {},
   "outputs": [
    {
     "data": {
      "text/plain": [
       "'GGCCCCGTA'"
      ]
     },
     "execution_count": 10,
     "metadata": {},
     "output_type": "execute_result"
    }
   ],
   "source": [
    "reversed(dna33)"
   ]
  },
  {
   "cell_type": "code",
   "execution_count": 11,
   "metadata": {},
   "outputs": [
    {
     "name": "stdout",
     "output_type": "stream",
     "text": [
      "TACGGGGCC\n"
     ]
    }
   ],
   "source": [
    "print(dna33.complement())"
   ]
  },
  {
   "cell_type": "code",
   "execution_count": 12,
   "metadata": {},
   "outputs": [
    {
     "name": "stdout",
     "output_type": "stream",
     "text": [
      "CCGGGGCAT\n"
     ]
    }
   ],
   "source": [
    "print(dna33.reverse_complement())  "
   ]
  },
  {
   "cell_type": "code",
   "execution_count": null,
   "metadata": {},
   "outputs": [],
   "source": []
  },
  {
   "cell_type": "code",
   "execution_count": 14,
   "metadata": {},
   "outputs": [
    {
     "name": "stdout",
     "output_type": "stream",
     "text": [
      "AUGGGUA\n"
     ]
    }
   ],
   "source": [
    "print(rna1)"
   ]
  },
  {
   "cell_type": "code",
   "execution_count": 15,
   "metadata": {},
   "outputs": [
    {
     "name": "stdout",
     "output_type": "stream",
     "text": [
      "AUGGGUA\n"
     ]
    }
   ],
   "source": [
    "print(rna1.reverse())"
   ]
  },
  {
   "cell_type": "code",
   "execution_count": 16,
   "metadata": {},
   "outputs": [
    {
     "name": "stdout",
     "output_type": "stream",
     "text": [
      "UACCCAU\n"
     ]
    }
   ],
   "source": [
    "print(rna1.reverse_complement()) "
   ]
  },
  {
   "cell_type": "markdown",
   "metadata": {},
   "source": [
    "**Вопрос:** мне хотелось бы реализовать цепные методы, вроде dna33.reverse().complement(). Но для этого надо возвращать объект класса. Как в классе-родителе прописать, чтобы возвращался не объект класса-родителя, а объект класса-наследника?\n",
    "\n",
    "У меня сейчас возвращается str ~объект класса \\_SeqBaseClass~, а хотелось бы возвращать объект класса Dna/Rna, но не писать для этого методы reverse и complement в обоих классах-детях."
   ]
  },
  {
   "cell_type": "markdown",
   "metadata": {},
   "source": [
    "#### 4. Итерирование по последовательности"
   ]
  },
  {
   "cell_type": "code",
   "execution_count": 17,
   "metadata": {},
   "outputs": [
    {
     "name": "stdout",
     "output_type": "stream",
     "text": [
      "ATGCGTA\n",
      "ATGCGTA"
     ]
    }
   ],
   "source": [
    "for i in dna2:\n",
    "    print(i, end='')\n",
    "    \n",
    "print()\n",
    "    \n",
    "for i in dna2:\n",
    "    print(i, end='')"
   ]
  },
  {
   "cell_type": "code",
   "execution_count": 18,
   "metadata": {},
   "outputs": [
    {
     "name": "stdout",
     "output_type": "stream",
     "text": [
      "AUGGGUA"
     ]
    }
   ],
   "source": [
    "for i in rna1:\n",
    "    print(i, end='')"
   ]
  },
  {
   "cell_type": "code",
   "execution_count": 19,
   "metadata": {},
   "outputs": [
    {
     "name": "stdout",
     "output_type": "stream",
     "text": [
      "A\n",
      "T\n",
      "G\n",
      "C\n",
      "G\n",
      "T\n",
      "A\n"
     ]
    },
    {
     "ename": "StopIteration",
     "evalue": "",
     "output_type": "error",
     "traceback": [
      "\u001b[0;31m---------------------------------------------------------------------------\u001b[0m",
      "\u001b[0;31mStopIteration\u001b[0m                             Traceback (most recent call last)",
      "\u001b[0;32m<ipython-input-19-657020e9b948>\u001b[0m in \u001b[0;36m<module>\u001b[0;34m\u001b[0m\n\u001b[1;32m      7\u001b[0m \u001b[0mprint\u001b[0m\u001b[0;34m(\u001b[0m\u001b[0mnext\u001b[0m\u001b[0;34m(\u001b[0m\u001b[0miterable\u001b[0m\u001b[0;34m)\u001b[0m\u001b[0;34m)\u001b[0m\u001b[0;34m\u001b[0m\u001b[0;34m\u001b[0m\u001b[0m\n\u001b[1;32m      8\u001b[0m \u001b[0mprint\u001b[0m\u001b[0;34m(\u001b[0m\u001b[0mnext\u001b[0m\u001b[0;34m(\u001b[0m\u001b[0miterable\u001b[0m\u001b[0;34m)\u001b[0m\u001b[0;34m)\u001b[0m\u001b[0;34m\u001b[0m\u001b[0;34m\u001b[0m\u001b[0m\n\u001b[0;32m----> 9\u001b[0;31m \u001b[0mprint\u001b[0m\u001b[0;34m(\u001b[0m\u001b[0mnext\u001b[0m\u001b[0;34m(\u001b[0m\u001b[0miterable\u001b[0m\u001b[0;34m)\u001b[0m\u001b[0;34m)\u001b[0m\u001b[0;34m\u001b[0m\u001b[0;34m\u001b[0m\u001b[0m\n\u001b[0m",
      "\u001b[0;31mStopIteration\u001b[0m: "
     ]
    }
   ],
   "source": [
    "iterable = iter(dna2)\n",
    "print(next(iterable))\n",
    "print(next(iterable))\n",
    "print(next(iterable))\n",
    "print(next(iterable))\n",
    "print(next(iterable))\n",
    "print(next(iterable))\n",
    "print(next(iterable))\n",
    "print(next(iterable))"
   ]
  },
  {
   "cell_type": "markdown",
   "metadata": {},
   "source": [
    "#### 5. Сравнение последовательностей"
   ]
  },
  {
   "cell_type": "markdown",
   "metadata": {},
   "source": [
    "Можно сравнивать со строкой, с объектом своего класса. Строки приводятся к одному регистру."
   ]
  },
  {
   "cell_type": "code",
   "execution_count": 20,
   "metadata": {},
   "outputs": [
    {
     "data": {
      "text/plain": [
       "Dna('ATGTGACTGATGCATGCTAGCTAGCATGCATGCTAGCTAGCTAGCTAGCATGCTAGCTAGCTAGCTAGCTAGCTAGCTAGTCGATCGATGCTAGCATGCTATTTTTTTTAGCGACGAGCGAGCTACGAGTCATCGAGCTAGCTAGCTACTAGCATCAGTAGCTAGCTAGCTGATCAGTCAGATCG')"
      ]
     },
     "execution_count": 20,
     "metadata": {},
     "output_type": "execute_result"
    }
   ],
   "source": [
    "dna1"
   ]
  },
  {
   "cell_type": "code",
   "execution_count": 21,
   "metadata": {},
   "outputs": [
    {
     "data": {
      "text/plain": [
       "Rna('AUGUGACUGAUGCAUGCUAGCUAGCAUGCAUGCUAGCUAGCUAGCUAGCAUGCUAGCUAGCUAGCUAGCUAGCUAGCUAGUCGAUCGAUGCUAGCAUGCUAUUUUUUUUAGCGACGAGCGAGCUACGAGUCAUCGAGCUAGCUAGCUACUAGCAUCAGUAGCUAGCUAGCUGAUCAGUCAGAUCG')"
      ]
     },
     "execution_count": 21,
     "metadata": {},
     "output_type": "execute_result"
    }
   ],
   "source": [
    "rna2"
   ]
  },
  {
   "cell_type": "code",
   "execution_count": 22,
   "metadata": {},
   "outputs": [
    {
     "name": "stdout",
     "output_type": "stream",
     "text": [
      "ATGCGTA ATGCGTA ATGCGTA\n"
     ]
    }
   ],
   "source": [
    "print(dna2, dna3, dna4)"
   ]
  },
  {
   "cell_type": "code",
   "execution_count": 23,
   "metadata": {},
   "outputs": [
    {
     "data": {
      "text/plain": [
       "(True,\n",
       " True,\n",
       " True,\n",
       " \"Comparison of <class 'Seq.Dna'> and <class 'int'> is not defined.\",\n",
       " False,\n",
       " True)"
      ]
     },
     "execution_count": 23,
     "metadata": {},
     "output_type": "execute_result"
    }
   ],
   "source": [
    "dna2==dna4, \\\n",
    "dna2=='ATGCGTA', \\\n",
    "dna2=='atgcgTa', \\\n",
    "dna2==123, \\\n",
    "dna1==rna2, \\\n",
    "dna1.transcribe().complement()==rna2"
   ]
  },
  {
   "cell_type": "markdown",
   "metadata": {},
   "source": [
    "#### 6. Добавление в множества"
   ]
  },
  {
   "cell_type": "code",
   "execution_count": 24,
   "metadata": {},
   "outputs": [
    {
     "data": {
      "text/plain": [
       "(Dna('ATGTGACTGATGCATGCTAGCTAGCATGCATGCTAGCTAGCTAGCTAGCATGCTAGCTAGCTAGCTAGCTAGCTAGCTAGTCGATCGATGCTAGCATGCTATTTTTTTTAGCGACGAGCGAGCTACGAGTCATCGAGCTAGCTAGCTACTAGCATCAGTAGCTAGCTAGCTGATCAGTCAGATCG'),\n",
       " Dna('ATGCGTA'),\n",
       " Dna('ATGCGTA'),\n",
       " Dna('ATGCGTA'))"
      ]
     },
     "execution_count": 24,
     "metadata": {},
     "output_type": "execute_result"
    }
   ],
   "source": [
    "dna1, dna2, dna3, dna4"
   ]
  },
  {
   "cell_type": "code",
   "execution_count": 25,
   "metadata": {},
   "outputs": [
    {
     "name": "stdout",
     "output_type": "stream",
     "text": [
      "dna1= 4426966749769101691 \n",
      "dna2 = 5530952391367901288 \n",
      "dna3 = 5530952391367901288 \n",
      "dna4 = 5530952391367901288 \n",
      "atgcgta = 8820214362803449608 \n",
      "atgcgTa = 4577615460916064375\n"
     ]
    }
   ],
   "source": [
    "# для одинаковых последовательностей hash функции совпадают\n",
    "\n",
    "print('dna1=', hash(dna1), \n",
    "      '\\ndna2 =', hash(dna2), \n",
    "      '\\ndna3 =', hash(dna3),\n",
    "      '\\ndna4 =', hash(dna4), \n",
    "      '\\natgcgta =', hash('atgcgta'), \n",
    "      '\\natgcgTa =', hash('atgcgTa'))"
   ]
  },
  {
   "cell_type": "code",
   "execution_count": 26,
   "metadata": {},
   "outputs": [
    {
     "name": "stdout",
     "output_type": "stream",
     "text": [
      "4411815154786072324 4411815154786072324 -7671997777524338381\n"
     ]
    }
   ],
   "source": [
    "print(hash(Rna('aug')), hash(Rna('auG')), hash(Rna('augt')),)"
   ]
  },
  {
   "cell_type": "code",
   "execution_count": null,
   "metadata": {},
   "outputs": [],
   "source": []
  },
  {
   "cell_type": "code",
   "execution_count": 27,
   "metadata": {},
   "outputs": [
    {
     "data": {
      "text/plain": [
       "(Dna('ATGTGACTGATGCATGCTAGCTAGCATGCATGCTAGCTAGCTAGCTAGCATGCTAGCTAGCTAGCTAGCTAGCTAGCTAGTCGATCGATGCTAGCATGCTATTTTTTTTAGCGACGAGCGAGCTACGAGTCATCGAGCTAGCTAGCTACTAGCATCAGTAGCTAGCTAGCTGATCAGTCAGATCG'),\n",
       " Dna('ATGCGTA'),\n",
       " Dna('ATGCGTA'),\n",
       " Dna('ATGCGTA'),\n",
       " Rna('AUGGGUA'),\n",
       " Rna('AUGUGACUGAUGCAUGCUAGCUAGCAUGCAUGCUAGCUAGCUAGCUAGCAUGCUAGCUAGCUAGCUAGCUAGCUAGCUAGUCGAUCGAUGCUAGCAUGCUAUUUUUUUUAGCGACGAGCGAGCUACGAGUCAUCGAGCUAGCUAGCUACUAGCAUCAGUAGCUAGCUAGCUGAUCAGUCAGAUCG'))"
      ]
     },
     "execution_count": 27,
     "metadata": {},
     "output_type": "execute_result"
    }
   ],
   "source": [
    "(dna1, dna2, dna3, dna4, rna1, rna2)"
   ]
  },
  {
   "cell_type": "code",
   "execution_count": 28,
   "metadata": {},
   "outputs": [
    {
     "name": "stdout",
     "output_type": "stream",
     "text": [
      "Length = 4\n",
      "ATGCGTA\n",
      "AUGGGUA\n",
      "ATGTGACTGATGCATGCTAGCTAGCATGCATGCTAGCTAGCTAGCTAGCATGCTAGCTAGCTAGCTAGCTAGCTAGCTAGTCGATCGATGCTAGCATGCTATTTTTTTTAGCGACGAGCGAGCTACGAGTCATCGAGCTAGCTAGCTACTAGCATCAGTAGCTAGCTAGCTGATCAGTCAGATCG\n",
      "AUGUGACUGAUGCAUGCUAGCUAGCAUGCAUGCUAGCUAGCUAGCUAGCAUGCUAGCUAGCUAGCUAGCUAGCUAGCUAGUCGAUCGAUGCUAGCAUGCUAUUUUUUUUAGCGACGAGCGAGCUACGAGUCAUCGAGCUAGCUAGCUACUAGCAUCAGUAGCUAGCUAGCUGAUCAGUCAGAUCG\n"
     ]
    }
   ],
   "source": [
    "# можно видеть, что одинаковые последовательности ДНК (dna2, dna3, dna4) схлопнулись в одну\n",
    "\n",
    "some_set = set((dna1, dna2, dna3, dna4, rna1, rna2))\n",
    "\n",
    "print('Length =', len(some_set))\n",
    "for elem in some_set:\n",
    "    print(elem)"
   ]
  },
  {
   "cell_type": "code",
   "execution_count": null,
   "metadata": {},
   "outputs": [],
   "source": []
  },
  {
   "cell_type": "markdown",
   "metadata": {},
   "source": [
    "#### 7. метод transcribe"
   ]
  },
  {
   "cell_type": "code",
   "execution_count": 29,
   "metadata": {},
   "outputs": [
    {
     "data": {
      "text/plain": [
       "Dna('ATGCGTA')"
      ]
     },
     "execution_count": 29,
     "metadata": {},
     "output_type": "execute_result"
    }
   ],
   "source": [
    "dna2"
   ]
  },
  {
   "cell_type": "code",
   "execution_count": 30,
   "metadata": {},
   "outputs": [
    {
     "data": {
      "text/plain": [
       "Rna('UACGCAU')"
      ]
     },
     "execution_count": 30,
     "metadata": {},
     "output_type": "execute_result"
    }
   ],
   "source": [
    "dna2.transcribe()"
   ]
  },
  {
   "cell_type": "code",
   "execution_count": null,
   "metadata": {},
   "outputs": [],
   "source": []
  },
  {
   "cell_type": "code",
   "execution_count": null,
   "metadata": {},
   "outputs": [],
   "source": []
  },
  {
   "cell_type": "code",
   "execution_count": null,
   "metadata": {},
   "outputs": [],
   "source": []
  },
  {
   "cell_type": "code",
   "execution_count": null,
   "metadata": {},
   "outputs": [],
   "source": []
  }
 ],
 "metadata": {
  "kernelspec": {
   "display_name": "Python 3",
   "language": "python",
   "name": "python3"
  },
  "language_info": {
   "codemirror_mode": {
    "name": "ipython",
    "version": 3
   },
   "file_extension": ".py",
   "mimetype": "text/x-python",
   "name": "python",
   "nbconvert_exporter": "python",
   "pygments_lexer": "ipython3",
   "version": "3.8.10"
  }
 },
 "nbformat": 4,
 "nbformat_minor": 4
}
